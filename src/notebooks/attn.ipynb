{
 "cells": [
  {
   "cell_type": "code",
   "execution_count": 1,
   "metadata": {},
   "outputs": [],
   "source": [
    "import torch"
   ]
  },
  {
   "cell_type": "code",
   "execution_count": 2,
   "metadata": {},
   "outputs": [],
   "source": [
    "tn = 5"
   ]
  },
  {
   "cell_type": "code",
   "execution_count": 5,
   "metadata": {},
   "outputs": [
    {
     "data": {
      "text/plain": [
       "tensor([[1., 1., 1., 1., 1.],\n",
       "        [1., 1., 1., 1., 1.],\n",
       "        [1., 1., 1., 1., 1.],\n",
       "        [1., 1., 1., 1., 1.],\n",
       "        [1., 1., 1., 1., 1.]])"
      ]
     },
     "execution_count": 5,
     "metadata": {},
     "output_type": "execute_result"
    }
   ],
   "source": [
    "self_attn = torch.ones((tn, tn))\n",
    "self_attn"
   ]
  },
  {
   "cell_type": "code",
   "execution_count": 6,
   "metadata": {},
   "outputs": [
    {
     "data": {
      "text/plain": [
       "tensor([[1., 0., 0., 0., 0.],\n",
       "        [1., 1., 0., 0., 0.],\n",
       "        [1., 1., 1., 0., 0.],\n",
       "        [1., 1., 1., 1., 0.],\n",
       "        [1., 1., 1., 1., 1.]])"
      ]
     },
     "execution_count": 6,
     "metadata": {},
     "output_type": "execute_result"
    }
   ],
   "source": [
    "self_attn.tril()"
   ]
  },
  {
   "cell_type": "code",
   "execution_count": 12,
   "metadata": {},
   "outputs": [
    {
     "name": "stdout",
     "output_type": "stream",
     "text": [
      "[[0. 0. 0. 0. 0. 0. 0. 0. 0. 0.]\n",
      " [0. 0. 0. 0. 0. 0. 0. 0. 0. 0.]\n",
      " [0. 0. 0. 0. 0. 0. 0. 0. 0. 0.]\n",
      " [0. 0. 0. 0. 0. 0. 0. 0. 0. 0.]\n",
      " [0. 0. 0. 0. 0. 0. 0. 0. 0. 0.]\n",
      " [0. 0. 0. 0. 0. 0. 0. 0. 0. 0.]\n",
      " [0. 0. 0. 0. 0. 0. 0. 0. 0. 0.]\n",
      " [0. 0. 0. 0. 0. 0. 0. 0. 0. 0.]\n",
      " [0. 0. 0. 0. 0. 0. 0. 0. 0. 0.]\n",
      " [0. 0. 0. 0. 0. 0. 0. 0. 0. 0.]]\n"
     ]
    }
   ],
   "source": [
    "other_attn = torch.zeros((2*tn,2*tn))\n",
    "print(other_attn.numpy())"
   ]
  },
  {
   "cell_type": "code",
   "execution_count": null,
   "metadata": {},
   "outputs": [],
   "source": [
    "\"\"\"\n",
    "\n",
    "[[0. 0. 0. 0. 0. 0. 0. 0. 0. 0.]\n",
    " [0. 1. 0. 0. 0. 0. 0. 0. 0. 0.]\n",
    " [0. 0. 1. 1. 0. 0. 0. 0. 0. 0.]\n",
    " [0. 1. 0. 1. 0. 0. 0. 0. 0. 0.]\n",
    " [0. 1. 0. 0. 1. 1. 0. 0. 0. 0.]\n",
    " [0. 1. 0. 1. 0. 1. 0. 0. 0. 0.]\n",
    " [0. 1. 0. 1. 0. 0. 1. 1. 0. 0.]\n",
    " [0. 1. 0. 1. 0. 1. 0. 1. 0. 0.]\n",
    " [0. 1. 0. 1. 0. 1. 0. 0. 1. 1.]\n",
    " [0. 1. 0. 1. 0. 1. 0. 1. 0. 1.]]\n",
    "\n",
    "\"\"\""
   ]
  },
  {
   "cell_type": "code",
   "execution_count": 4,
   "metadata": {},
   "outputs": [
    {
     "name": "stdout",
     "output_type": "stream",
     "text": [
      "tensor([[0., 0., 0., 0., 0., 0., 0., 0.],\n",
      "        [0., 1., 0., 0., 0., 0., 0., 0.],\n",
      "        [0., 0., 1., 1., 0., 0., 0., 0.],\n",
      "        [0., 1., 0., 1., 0., 0., 0., 0.],\n",
      "        [0., 1., 0., 0., 1., 1., 0., 0.],\n",
      "        [0., 1., 0., 1., 0., 1., 0., 0.],\n",
      "        [0., 1., 0., 1., 0., 0., 1., 1.],\n",
      "        [0., 1., 0., 1., 0., 1., 0., 1.]])\n"
     ]
    }
   ],
   "source": [
    "import torch\n",
    "\n",
    "# Initialize a 10x10 tensor with zeros\n",
    "matrix = torch.zeros(8, 8)\n",
    "\n",
    "# Loop over each row index\n",
    "for i in range(8):\n",
    "    if i >= 1:  # Skip row 0, which remains all zeros\n",
    "        if i % 2 == 1:  # Odd rows\n",
    "            # Set ones at odd indices from 1 to i (inclusive)\n",
    "            # range(1, i+1, 2) gives 1, 3, 5, ..., up to <= i\n",
    "            matrix[i, 1:i+1:2] = 1\n",
    "        else:  # Even rows (i >= 2)\n",
    "            # Set ones at odd indices from 1 to i-1 (exclusive)\n",
    "            # For i=2, this is empty; for i=4, it’s [1]; etc.\n",
    "            if i-1 > 1:\n",
    "                matrix[i, 1:i-1:2] = 1\n",
    "            # Set ones at j = i and j = i+1, ensuring j <= 9\n",
    "            matrix[i, i] = 1\n",
    "            if i + 1 <= 7:\n",
    "                matrix[i, i + 1] = 1\n",
    "\n",
    "# Convert to float for consistency with the input format (optional)\n",
    "matrix = matrix.float()\n",
    "\n",
    "# Print to verify (optional)\n",
    "print(matrix)"
   ]
  },
  {
   "cell_type": "code",
   "execution_count": 21,
   "metadata": {},
   "outputs": [],
   "source": [
    "import torch\n",
    "\n",
    "def create_attention_mask_matrix(tn):\n",
    "    # Initialize the 10x10 matrix\n",
    "    matrix = torch.zeros(tn, tn)\n",
    "\n",
    "    # Define odd columns mask (j=1,3,5,7,9)\n",
    "    odd_cols = torch.arange(tn) % 2 == 1  # [False, True, False, True, ..., True]\n",
    "\n",
    "    # Define row indices\n",
    "    odd_rows = torch.tensor([x for x in range(1, tn) if x%2==1])\n",
    "    even_rows = torch.tensor([x for x in range(1, tn) if x%2==0])\n",
    "\n",
    "    # For odd rows: ones at odd columns j ≤ i\n",
    "    # Use tril to get 1s where j ≤ i, then mask with odd columns\n",
    "    tril_matrix = torch.tril(torch.ones(tn, tn))\n",
    "    matrix[odd_rows, :] = tril_matrix[odd_rows, :] * odd_cols\n",
    "\n",
    "    # For even rows: ones at odd j ≤ i-2, plus j=i and j=i+1\n",
    "    # Use tril with diagonal=-2 for j ≤ i-2, mask with odd columns\n",
    "    tril_minus2 = torch.tril(torch.ones(tn, tn), diagonal=-2)\n",
    "    matrix[even_rows, :] = tril_minus2[even_rows, :] * odd_cols\n",
    "    # Set specific positions for even rows\n",
    "    matrix[even_rows, even_rows] = 1    # j = i\n",
    "    matrix[even_rows, even_rows + 1] = 1  # j = i+1\n",
    "\n",
    "    # Ensure float type (optional)\n",
    "    # matrix = matrix\n",
    "    return matrix[1:, 1:].bool()"
   ]
  },
  {
   "cell_type": "code",
   "execution_count": 23,
   "metadata": {},
   "outputs": [
    {
     "data": {
      "text/plain": [
       "tensor([[ True, False, False, False, False, False, False],\n",
       "        [False,  True,  True, False, False, False, False],\n",
       "        [ True, False,  True, False, False, False, False],\n",
       "        [ True, False, False,  True,  True, False, False],\n",
       "        [ True, False,  True, False,  True, False, False],\n",
       "        [ True, False,  True, False, False,  True,  True],\n",
       "        [ True, False,  True, False,  True, False,  True]])"
      ]
     },
     "execution_count": 23,
     "metadata": {},
     "output_type": "execute_result"
    }
   ],
   "source": [
    "create_attention_mask_matrix(8)"
   ]
  },
  {
   "cell_type": "code",
   "execution_count": 26,
   "metadata": {},
   "outputs": [
    {
     "data": {
      "text/plain": [
       "tensor([[1., 0., 0., 0., 0., 0., 0., 0.],\n",
       "        [1., 1., 1., 0., 0., 0., 0., 0.],\n",
       "        [1., 1., 1., 1., 1., 0., 0., 0.]])"
      ]
     },
     "execution_count": 26,
     "metadata": {},
     "output_type": "execute_result"
    }
   ],
   "source": [
    "tril_minus2[even_rows, :]"
   ]
  },
  {
   "cell_type": "code",
   "execution_count": 27,
   "metadata": {},
   "outputs": [
    {
     "data": {
      "text/plain": [
       "tensor([False,  True, False,  True, False,  True, False,  True])"
      ]
     },
     "execution_count": 27,
     "metadata": {},
     "output_type": "execute_result"
    }
   ],
   "source": [
    "odd_cols"
   ]
  },
  {
   "cell_type": "code",
   "execution_count": 28,
   "metadata": {},
   "outputs": [
    {
     "data": {
      "text/plain": [
       "tensor([[0., 0., 0., 0., 0., 0., 0., 0.],\n",
       "        [0., 1., 0., 0., 0., 0., 0., 0.],\n",
       "        [0., 1., 0., 1., 0., 0., 0., 0.]])"
      ]
     },
     "execution_count": 28,
     "metadata": {},
     "output_type": "execute_result"
    }
   ],
   "source": [
    "tril_minus2[even_rows, :] * odd_cols"
   ]
  },
  {
   "cell_type": "code",
   "execution_count": null,
   "metadata": {},
   "outputs": [],
   "source": []
  }
 ],
 "metadata": {
  "kernelspec": {
   "display_name": "pt",
   "language": "python",
   "name": "python3"
  },
  "language_info": {
   "codemirror_mode": {
    "name": "ipython",
    "version": 3
   },
   "file_extension": ".py",
   "mimetype": "text/x-python",
   "name": "python",
   "nbconvert_exporter": "python",
   "pygments_lexer": "ipython3",
   "version": "3.11.11"
  }
 },
 "nbformat": 4,
 "nbformat_minor": 2
}
